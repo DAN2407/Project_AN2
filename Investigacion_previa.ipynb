{
 "cells": [
  {
   "cell_type": "markdown",
   "id": "bf143308",
   "metadata": {},
   "source": [
    "# Investigación preliminar sobre el metodo de euler y Runge-Kutta de cuarto oreden (RK4)"
   ]
  },
  {
   "cell_type": "markdown",
   "id": "cc90a468",
   "metadata": {},
   "source": [
    "### Autores\n",
    "\n",
    "| Nombre | Universidad | Correo |\n",
    "|--------|------------|---------|\n",
    "| A. Rigoberto | Universidad Centroamericana José Simeón Cañas | 00042220@uca.edu.sv |\n",
    "| E. Alexander | Universidad Centroamericana José Simeón Cañas | 00066819@uca.edu.sv |\n",
    "| O. Heriberto | Universidad Centroamericana José Simeón Cañas | 00177919@uca.edu.sv |\n",
    "| Z. Daniela | Universidad Centroamericana José Simeón Cañas | 00062019@uca.edu.sv |"
   ]
  },
  {
   "cell_type": "markdown",
   "id": "abc1c9ba",
   "metadata": {},
   "source": [
    "**Resumen**—Este proyecto tiene como objetivo implementar y comparar dos métodos numéricos, el Método de Euler y el Método de Runge-Kutta de cuarto orden (RK4), para simular el comportamiento del atractor de Lorenz, un sistema de ecuaciones diferenciales no lineales que exhibe caos determinista. Se realizarán simulaciones bajo diferentes condiciones iniciales y parámetros, analizando cómo estos aspectos afectan la dinámica del sistema. Además, se incluirá una animación tridimensional del plano de fases, el cálculo de la divergencia del campo vectorial, y un estudio de la estabilidad local cerca del origen."
   ]
  },
  {
   "cell_type": "markdown",
   "id": "8c602ceb",
   "metadata": {},
   "source": [
    "## I. INTRODUCCIÓN\n",
    "\n",
    "El tema de las ecuaciones diferenciales constituye una rama amplia y muy importante de la Matemática moderna. Desde los primeros tiempos del Cálculo, tal tema ha sido un área de gran investigación teórica y aplicaciones prácticas, y aún continúa siéndolo en nuestros días. Dicho esto esto, aparecen varias cuestiones de forma natural. ¿Qué es exactamente una ecuación diferencial y qué significa? ¿Dónde y cómo se originaron las ecuaciones diferenciales y cuál es su utilidad? Enfrentado a una ecuación diferencial, ¿qué se hace con ella y cómo se trata y cuáles son los resultados de tales manipulaciones?\n",
    "\n",
    "Se llama **ecuación diferencial** a una ecuación que contiene las derivadas de una o más variables dependientes respecto a una o más variables independientes.[1]"
   ]
  },
  {
   "cell_type": "markdown",
   "id": "532ebd4b",
   "metadata": {},
   "source": [
    "![Ecuaciones diferenciales](./imagenes/ecuaciones1.png)"
   ]
  },
  {
   "cell_type": "markdown",
   "id": "f53710b7",
   "metadata": {},
   "source": [
    "De la breve lista de ecuaciones diferenciales de este ejemplo, aparece como evidente que las diversas variables y derivadas relacionadas en una ecuación diferencial pueden figurar de muchas maneras. Es necesario, por tanto, algún tipo de clasificación. Para comenzar, clasificaremos las ecuaciones diferenciales según que intervengan una o más variables independientes.\n",
    "\n",
    "Se denomina **ecuación diferencial ordinaria** a una ecuación diferencial en la que aparecen derivadas ordinarias de una o más variables dependientes respecto a una única variable independiente.[1]\n",
    "\n",
    "Las ecuaciones (1.1) y (1.2) son ecuaciones diferenciales ordinarias. En la ecuación (1.1) la variable x es la única variable independiente, mientras que la variable y es la variable dependiente. En la ecuación (1.2) la variable t es la variable independiente, mientras que la x es dependiente.\n",
    "\n",
    "Se llama **ecuación diferencial en derivadas parciales** a una ecuación diferencial en la que aparecen derivadas parciales de una o más variables dependientes respecto a más de una variable independiente.[1]\n",
    "\n",
    "Por ejemplo, en las ecuaciones en derivadas parciales. En la ecuación (1.3) las variables s y t son independientes y v es la variable dependiente. En la ecuación (1.4) hay tres variables independientes, x, y, z, mientras que u es dependiente.\n",
    "\n",
    "Se denomina **orden** de una ecuación diferencial al orden de la derivada de mayor orden que aparece en dicha ecuación.[1]\n",
    "\n",
    "La ecuación diferencial ordinaria (1.1) es de segundo orden, puesto que la derivada más elevada que aparece es una derivada segunda. Las ecuaciones diferenciales en derivadas parciales (1.3) y (1.4) son de primero y segundo orden, respectivamente.\n",
    "\n",
    "Una **ecuación diferencial ordinaria lineal** de orden n, en la variable dependiente y y la variable independiente x, es una ecuación que puede expresarse en la forma.[1]"
   ]
  },
  {
   "cell_type": "markdown",
   "id": "d4cff280",
   "metadata": {},
   "source": [
    "![Ecuaciones diferenciales](./imagenes/ecuaciones2.png)"
   ]
  },
  {
   "cell_type": "markdown",
   "id": "03e711aa",
   "metadata": {},
   "source": [
    "donde $a_0$ no es idénticamente cero. Obsérvese que:\n",
    "1. Solamente aparece la primera potencia de la variable dependiente y y de sus derivadas\n",
    "2. No aparecen productos de y con sus derivadas ni de las derivadas entre sí\n",
    "3. No aparecen funciones trascendentes de y ni de sus derivadas\n",
    "\n",
    "Las siguientes ecuaciones diferenciales ordinarias son lineales, donde y es la variable dependiente y x es la variable independiente y satisfacen las condiciones anteriores:"
   ]
  },
  {
   "cell_type": "markdown",
   "id": "5004ab1d",
   "metadata": {},
   "source": [
    "![Ecuaciones diferenciales](./imagenes/ecuaciones3.png)"
   ]
  },
  {
   "cell_type": "markdown",
   "id": "6ff2d17f",
   "metadata": {},
   "source": [
    "Para precisar la diferencia entre linealidad y no linealidad,\n",
    "consideremos:  \n",
    "\n",
    "Las siguientes ecuaciones diferenciales ordinarias no son lineales:"
   ]
  },
  {
   "cell_type": "markdown",
   "id": "1de3daf0",
   "metadata": {},
   "source": [
    "![Ecuaciones diferenciales](./imagenes/ecuaciones4.png)"
   ]
  },
  {
   "cell_type": "markdown",
   "id": "8577f65d",
   "metadata": {},
   "source": [
    "Para precisar la diferencia entre linealidad y no linealidad, consideremos:\n",
    "\n",
    "La ecuación (1.7) no es lineal ya que figura la segunda potencia de la variable dependiente y en el término $6y^2$. La ecuación (1.8) debe su falta de linealidad a la presencia del término $5(dy/dx)^3$ con la tercera potencia de la derivada primera. Finalmente, la ecuación (1.9) no es lineal debido al término $5y(dy/dx)$ que incluye el producto de la variable dependiente por su derivada primera.\n",
    "\n",
    "Las ecuaciones diferenciales ordinarias lineales pueden clasificarse, además, de acuerdo con la naturaleza de los coeficientes. La ecuación (1.5) es una ecuación lineal con **coeficientes constantes**, mientras que la ecuación (1.6) es lineal con **coeficientes variables**."
   ]
  },
  {
   "cell_type": "markdown",
   "id": "076e67d6",
   "metadata": {},
   "source": [
    "### Introducción a los métodos numéricos para ecuaciones diferenciales\n",
    "\n",
    "En el estudio de las ecuaciones diferenciales, las herramientas numéricas han desempeñado un papel fundamental, ya que la mayoría de las ecuaciones que aparecen en problemas prácticos no admiten soluciones exactas. Esto obliga a recurrir a algún tipo de aproximación para obtener soluciones numéricas.\n",
    "\n",
    "Sin embargo, durante el siglo XIX y gran parte del siglo XX, muchos de los métodos desarrollados teóricamente no se aplicaron ampliamente debido a la falta de máquinas con capacidad de cálculo. Esta situación cambió radicalmente a mediados del siglo XX con la aparición de los primeros ordenadores, que ofrecían capacidades de cálculo y almacenamiento de datos.\n",
    "\n",
    "### Clasificación de métodos para PVI en EDOs\n",
    "\n",
    "Los métodos numéricos utilizados para resolver problemas de valor inicial (PVI) en ecuaciones diferenciales ordinarias (EDO) de la forma:\n",
    "\n",
    "$$\n",
    "y' = f(t, y), \\quad y(0) = y_0, \\quad t \\in [0, T], \\quad y, f \\in \\mathbb{R}^m \\quad (1.1)\n",
    "$$\n",
    "\n",
    "pueden clasificarse en dos grandes grupos:\n",
    "\n",
    "### a) Métodos de un paso\n",
    "Utilizan información de la solución en un instante $t$ para obtener una aproximación en $t + h$. Formalmente, si conocemos una aproximación $y_n$ en $t_n$, el método proporciona una nueva aproximación $y_{n+1}$ en:\n",
    "\n",
    "$$\n",
    "t_{n+1} = t_n + h\n",
    "$$\n",
    "\n",
    "### b) Métodos multipaso\n",
    "Emplean información calculada en varios puntos previos $\\{t_{n-k}, t_{n-k+1}, \\dots, t_n\\}$ para obtener la aproximación en $t_{n+1}$.\n",
    "\n",
    "### Enfoque del estudio\n",
    "\n",
    "En este trabajo nos centramos específicamente en el análisis de una clase particular de métodos de un paso: los **métodos Runge-Kutta explícitos (RKE)**."
   ]
  },
  {
   "cell_type": "markdown",
   "id": "d8249cb1",
   "metadata": {},
   "source": [
    "![MétodosRungeKutta](./imagenes/comparacion%20de%20metodos.png)\n",
    "\n",
    "<figcaption><small>Figura 1. Comparación de método de euler y runge kutta 4to orden.</small></figcaption>"
   ]
  },
  {
   "cell_type": "markdown",
   "id": "d807a7a0",
   "metadata": {},
   "source": [
    "## II. MÉTODO DE EULER\n",
    "\n",
    "En matemáticas y ciencia computacional, el Método euler (también llamado el método de Euler hacia adelante) es un primer orden numérico procedimiento para resolver ecuaciones diferenciales ordinarias (ODE) con un dado valor inicial. Es el más básico método explícito para integración numérica de ecuaciones diferenciales ordinarias y es el más simple Método runge-Kutta. El método Euler lleva el nombre de Leonhard Euler, quien lo propuso por primera vez en su libro *Institutionum calculi integralis* (publicado 1768-1770).[4]\n",
    "\n",
    "El método Euler es un método de primer orden, lo que significa que el error local (error por paso) es proporcional al cuadrado del tamaño del paso, y el error global (error en un momento dado) es proporcional al tamaño del paso. El método Euler a menudo sirve como base para construir métodos más complejos, por ejemplo predictor-método corrector.[4]"
   ]
  },
  {
   "cell_type": "markdown",
   "id": "87f116c1",
   "metadata": {},
   "source": [
    "![Euler's Method](./imagenes/euler1.jpeg)\n",
    "\n",
    "<figcaption><small>Figura 2. Ilustración del método Euler. La curva desconocida está en azul, y su aproximación poligonal está en negro.</small></figcaption>\n"
   ]
  },
  {
   "cell_type": "markdown",
   "id": "c21b0a79",
   "metadata": {},
   "source": [
    "Considere el problema de calcular la forma de una curva desconocida que comienza en un punto dado y satisface una ecuación diferencial dada. Aquí, una ecuación diferencial puede considerarse como una fórmula por la cual la pendiente de la línea tangente a la curva se puede calcular en cualquier punto de la curva, una vez que se ha calculado la posición de ese punto.\n",
    "\n",
    "La idea es que mientras la curva es inicialmente desconocida, su punto de partida, que denotamos por $A_0$, se conoce (véase la Figura 1). Luego, a partir de la ecuación diferencial, la pendiente de la curva en $A_0$ se puede calcular, y así, la línea tangente.\n",
    "\n",
    "Da un pequeño paso a lo largo de esa línea tangente hasta cierto punto $A_1$. A lo largo de ese pequeño paso, la pendiente no cambia demasiado, por lo que $A_1$ estará cerca de la curva. Si suponemos que $A_1$ todavía está en la curva, el mismo procedimiento que para el punto $A_0$ se puede utilizar. Después de varios pasos, la curva poligonal $(A_0, A_1, A_2, A_3,\\ldots)$ se calcula. En general, esta curva no diverge demasiado lejos de la curva desconocida original, y el error entre las dos curvas se puede hacer pequeño si el tamaño del paso es lo suficientemente pequeño y el intervalo de cálculo es finito [4]."
   ]
  },
  {
   "cell_type": "markdown",
   "id": "d3c676c6",
   "metadata": {},
   "source": [
    "### II-A. Proceso de primer orden\n",
    "\n",
    "Cuando se dan los valores para $t_0$, $y(t_0)$ y la derivada de $y$ es una función dada de $t$ y $y$ (denotada como $y'(t) = f(t, y(t))$), el proceso se inicia configurando $y_0 = y(t_0)$. A continuación, se elige un valor $h$ para el tamaño del paso a lo largo del eje $t$, y se establece:"
   ]
  },
  {
   "cell_type": "markdown",
   "id": "79c7e8fc",
   "metadata": {},
   "source": [
    "![Euler's Method](./imagenes/ecuaciones5.png)"
   ]
  },
  {
   "cell_type": "markdown",
   "id": "7f8b69a7",
   "metadata": {},
   "source": [
    "El método de Euler calcula yn+1 a partir de yn y tn mediante:"
   ]
  },
  {
   "cell_type": "markdown",
   "id": "c0706a97",
   "metadata": {},
   "source": [
    "![Euler's Method](./imagenes/ecuaciones6.png)"
   ]
  },
  {
   "cell_type": "markdown",
   "id": "456d3d42",
   "metadata": {},
   "source": [
    "El valor $y_n$ aproxima la solución en el tiempo $t_n$ ($y_n \\approx y(t_n)$). \n",
    "Nótese que:\n",
    "\n",
    "- El método es **explícito**: $y_{n+1}$ es función explícita de $y_i$ para $i \\leq n$\n",
    "- El error local es $O(h^2)$ y global $O(h)$"
   ]
  },
  {
   "cell_type": "markdown",
   "id": "fff5a89e",
   "metadata": {},
   "source": [
    "### II-B. Proceso de orden superior\n",
    "\n",
    "Mientras que el método Euler integra una ODE de primer orden, cualquier ODE de orden $N$ se puede representar como un sistema de ODE de primer orden. Cuando se le da la ODE de orden $N$ definido como"
   ]
  },
  {
   "cell_type": "markdown",
   "id": "2802139f",
   "metadata": {},
   "source": [
    "![Euler's Method](./imagenes/ecuaciones7.png)"
   ]
  },
  {
   "cell_type": "markdown",
   "id": "3539cea5",
   "metadata": {},
   "source": [
    "así como $h$, $t_0$, $y_0$, $y'_0$,..., $y^{(N-1)}$, implementamos la siguiente fórmula hasta llegar a la aproximación de la solución a la ODE en el momento deseado:"
   ]
  },
  {
   "cell_type": "markdown",
   "id": "34b708f6",
   "metadata": {},
   "source": [
    "![Euler's Method](./imagenes/ecuaciones8.png)"
   ]
  },
  {
   "cell_type": "markdown",
   "id": "6b4a8d40",
   "metadata": {},
   "source": [
    "Estos sistemas de primer orden pueden ser manejados por el método de Euler o, de hecho, por cualquier otro esquema para sistemas de primer orden.[4]"
   ]
  },
  {
   "cell_type": "markdown",
   "id": "4b73fb2f",
   "metadata": {},
   "source": [
    "### II-C. Estabilidad numérica\n",
    "\n",
    "El método Euler también puede ser numéricamente inestable, especialmente para ecuaciones rígidas, lo que significa que la solución numérica crece muy grande para ecuaciones donde la solución exacta no lo hace. Esto se puede ilustrar usando la ecuación lineal.[3]"
   ]
  },
  {
   "cell_type": "markdown",
   "id": "f19054af",
   "metadata": {},
   "source": [
    "![Euler's Method](./imagenes/ecuaciones9.png)"
   ]
  },
  {
   "cell_type": "markdown",
   "id": "d84e8e39",
   "metadata": {},
   "source": [
    "La solución exacta es $y(t) = e^{-2.3t}$, que se descompone a cero como $t \\to \\infty$. Sin embargo, si el método Euler se aplica a esta ecuación con tamaño de paso $h = 1$, entonces la solución numérica es cualitativamente incorrecta: oscila y crece (ver la figura). Esto es lo que significa ser inestable. Si se usa un tamaño de paso más pequeño, por ejemplo $h = 0.7$, entonces la solución numérica decae a cero.\n",
    "\n",
    "Si el método Euler se aplica a la ecuación lineal $y' = ky$, entonces la solución numérica es inestable si el producto $hk$ está fuera de la región"
   ]
  },
  {
   "cell_type": "markdown",
   "id": "82845ffb",
   "metadata": {},
   "source": [
    "![Euler's Method](./imagenes/ecuaciones10.png)"
   ]
  },
  {
   "cell_type": "markdown",
   "id": "da6d0232",
   "metadata": {},
   "source": [
    "ilustrado a la derecha. Esta región se llama (lineal) *región de estabilidad*. En el ejemplo, $k = -2.3$, entonces si $h = 1$ se tiene $hk = -2.3$ que está fuera de la región de estabilidad, y por lo tanto la solución numérica es inestable.\n",
    "\n",
    "Esta limitación —junto con su lenta convergencia de error con $h$— significa que el método Euler no se usa frecuentemente en la práctica, excepto como ejemplo básico de integración numérica.\n",
    "\n",
    "Los modelos de sistemas físicos frecuentemente contienen términos que representan elementos de rápida descomposición (con grandes argumentos exponenciales negativos). Aun cuando estos términos no sean relevantes para la solución general, la inestabilidad que pueden generar implicaría requerir pasos de tiempo excepcionalmente pequeños si se utiliza el método de Euler.[3]"
   ]
  },
  {
   "cell_type": "markdown",
   "id": "a34a8e80",
   "metadata": {},
   "source": [
    "![Solución método Euler](./imagenes/euler2.png)\n",
    "\n",
    "<figcaption><small>Figura 3. Solución de y' = -2.3y calculada con el método Euler. Los cuadrados azules representan h = 1, los círculos rojos h = 0.7, y la curva negra muestra la solución exacta.</small></figcaption>"
   ]
  },
  {
   "cell_type": "markdown",
   "id": "f50c9052",
   "metadata": {},
   "source": [
    "![Región de estabilidad](./imagenes/euler3.png)\n",
    "\n",
    "<figcaption><small>Figura 4. El disco rosa muestra la región de estabilidad para el método Euler.</small></figcaption>"
   ]
  },
  {
   "cell_type": "markdown",
   "id": "cb0f1f29",
   "metadata": {},
   "source": [
    "## III. MÉTODO DE RUNGE KUTTA\n",
    "\n",
    "Se define un método Runge-Kutta de $s$ etapas como un método numérico que dada una aproximación $y_n$ a la solución del (2.1) en un punto $t_n \\in [0,T]$, nos da una aproximación a dicha solución en el punto $t_n + h \\in [0,T]$, que denotamos por $y_{n+1}$, mediante las siguientes fórmulas:"
   ]
  },
  {
   "cell_type": "markdown",
   "id": "bc921f8d",
   "metadata": {},
   "source": [
    "![Euler's Method](./imagenes/ecuaciones11.png)"
   ]
  },
  {
   "cell_type": "markdown",
   "id": "566dcb8c",
   "metadata": {},
   "source": [
    "donde los vectores $K_1, K_2, ..., K_s$ se llaman *etapas del método RK*. Se define la *tabla de Butcher* asociada al RK (2.9)-(2.8) como:"
   ]
  },
  {
   "cell_type": "markdown",
   "id": "bf98529a",
   "metadata": {},
   "source": [
    "![Euler's Method](./imagenes/ecuaciones12.png)"
   ]
  },
  {
   "cell_type": "markdown",
   "id": "7e36b394",
   "metadata": {},
   "source": [
    "donde la matriz $A = (a_{ij})_{i,j=1}^s$ se llama **matriz de coeficientes del RK**, el vector $c = (c_1, c_2, ..., c_s)^T$ es el **vector de nodos o vector nodal del RK**, y el vector $b = (b_1, b_2, ..., b_s)^T$ es el **vector de pesos del RK**. Con la ayuda de esta notación podemos denotar a un método RK como RK($A$, $b$, $c$).\n",
    "\n",
    "Con la representación de la tabla de Butcher trabajamos matricialmente con los coeficientes del método.\n",
    "\n",
    "Según la forma de la matriz $A$ de los métodos RK se suelen dividir en dos grandes grupos:\n",
    "\n",
    "- **Cuando la matriz $A$ es triangular inferior estricta**, el método RK se dice **explícito** (RKE), obteniéndose sus etapas de forma recursiva."
   ]
  },
  {
   "cell_type": "markdown",
   "id": "b753e7c8",
   "metadata": {},
   "source": [
    "![Euler's Method](./imagenes/ecuaciones13.png)"
   ]
  },
  {
   "cell_type": "markdown",
   "id": "1387f129",
   "metadata": {},
   "source": [
    "- **Cuando $a_{ij} \\neq 0$ para algún $j \\geq i$**, el método se dice **implícito** (RKI), y para calcular una etapa tendremos que resolver un sistema implícito (2.8) de dimensión $s \\times s$ no lineal.\n",
    "\n",
    "### Formulación del Método RK4\n",
    "\n",
    "Dado el problema de valor inicial:\n",
    "\n",
    "$\\frac{dy}{dt} = f(t,y), \\quad y(t_0) = y_0$\n",
    "\n",
    "el método RK4 calcula la aproximación $y_{n+1}$ en el punto $t_{n+1} = t_n + h$ mediante:"
   ]
  },
  {
   "cell_type": "markdown",
   "id": "fc29fe4f",
   "metadata": {},
   "source": [
    "![Euler's Method](./imagenes/ecuaciones14.png)"
   ]
  },
  {
   "cell_type": "markdown",
   "id": "fa874e3f",
   "metadata": {},
   "source": [
    "**Tabla de Butcher para RK4**\n",
    "\n",
    "La estructura del método se representa mediante la tabla de Butcher:"
   ]
  },
  {
   "cell_type": "markdown",
   "id": "ecc31f01",
   "metadata": {},
   "source": [
    "![Euler's Method](./imagenes/ecuaciones15.png)"
   ]
  },
  {
   "cell_type": "markdown",
   "id": "bb83d540",
   "metadata": {},
   "source": [
    "### IV. PROPIEDADES DEL MÉTODO RK4\n",
    "\n",
    "- **Orden de convergencia**: El método tiene un error local de truncamiento de $O(h^5)$ y un error global de $O(h^4)$.\n",
    "\n",
    "- **Consistencia**: Es consistente y convergente para funciones $f$ Lipschitz continuas.\n",
    "\n",
    "- **Estabilidad**: La región de estabilidad absoluta es mayor que la del método de Euler.\n",
    "\n",
    "- **Ventajas**: No requiere el cálculo de derivadas y ofrece buena precisión para muchos problemas prácticos.\n",
    "\n",
    "**Ejemplo de Aplicación** Considere la EDO:\n",
    "\n",
    "$\\frac{dy}{dt} = -2y, \\quad y(0) = 1$\n",
    "\n",
    "Con $h = 0.1$, el primer paso del RK4 sería:"
   ]
  },
  {
   "cell_type": "markdown",
   "id": "7496aa14",
   "metadata": {},
   "source": [
    "![Euler's Method](./imagenes/ecuaciones16.png)"
   ]
  },
  {
   "cell_type": "markdown",
   "id": "967e0cbb",
   "metadata": {},
   "source": [
    "## Referencias\n",
    "\n",
    "[1] \"Ecuaciones diferenciales\" - J. Wiley. Google Books. Accedido el 4 de junio de 2025. [En línea]. [Link](https://books.google.es/books?id=wOAbEAAAQBAJ)\n",
    "\n",
    "[2] González, C. (2013). *Métodos numéricos para ecuaciones diferenciales ordinarias. Métodos Runge-Kutta explícitos* [Tesis doctoral, Universidad de La Laguna]. Repositorio Institucional de la Universidad de La Laguna. [Link](https://riull.ull.es/xmlui/handle/915/961)\n",
    "\n",
    "[3] \"An Introduction to Numerical Analysis\" - New York: J. Wiley and Sons. ISBN 978-0-471-50023-0. Accedido el 4 de junio de 2025. [En línea]. [Link](https://math.science.cmu.ac.th/docs/qNA2556/ref_na/Katkinson.pdf)\n",
    "\n",
    "[4] \"Computer Methods for Ordinary Differential Equations and Differential-Algebraic Equations\" - Philadelphia: Society for Industrial and Applied Mathematics. ISBN 978-0-89871-412-8. [Link](https://math.science.cmu.ac.th/docs/qNA2556/ref_na/Katkinson.pdf)\n",
    "\n",
    "[5] \"Numerical Methods for Ordinary Differential Equations\" - New York: John Wiley and Sons. ISBN 978-0-471-96758-3. Accedido el 4 de junio de 2025. [Link](https://learn.fmi.uni-sofia.bg/)\n",
    "\n",
    "[6] \"Solving ordinary differential equations I: Nonstiff problems\" - Berlin, New York: Springer-Verlag. ISBN 978-3-540-56670-0. [Link](https://www.researchgate.net/publication/200175469)\n",
    "\n",
    "[7] \"Figura 2\" Comparación gráfica del método Euler. [Link](https://learn.fmi.uni-sofia.bg/)\n",
    "\n",
    "[8] \"Figura 3\" Solución calculada con el método Euler. [Link](https://www.southampton.ac.uk/~mb1a10/sim/Intro_Diff3.pdf)\n",
    "\n",
    "[9] \"Figura 4\" Estabilidad del método de Euler. [Link](https://fr.m.wikiversity.org/wiki/Fichier:Stability_region_for_Euler_method.svg)\n",
    "\n",
    "[10] \"Figura 1\" Universidad de La Laguna. (2016). Métodos numéricos para ecuaciones diferenciales ordinarias. Métodos Runge-Kutta explícitos [Tesis o trabajo académico]. RIULL. [Link](https://riull.ull.es/xmlui/bitstream/handle/915/961/Metodos+numericos+para+ecuaciones+diferenciales+ordinarias.+Metodos+Runge+Dutta+explicitos+.pdf?sequence=1)\n",
    "\n",
    "[11] F, V. (s.f.). METODOS DE UN PASO. METODOS RUNGE-KUTTA. Universidad del pais Vasco. [Link](https://www.ehu.eus/~mepvaarf/ficheros/num_ode_un_paso.pdf)\n",
    "\n",
    "[12] A, M., S, F. M., & A, H. (2010, marzo). Metodos Runge-Kutta implıcitos de alto orden para flujos incompresibles. Universidad politecnica de catalunya barcelonatech. [link](https://upcommons.upc.edu/bitstream/handle/2117/77733/RR271E.pdf?sequence=1&amp;isAllowed=y)"
   ]
  }
 ],
 "metadata": {
  "language_info": {
   "name": "python"
  }
 },
 "nbformat": 4,
 "nbformat_minor": 5
}
